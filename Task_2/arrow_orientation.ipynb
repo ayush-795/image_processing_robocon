{
  "nbformat": 4,
  "nbformat_minor": 0,
  "metadata": {
    "colab": {
      "provenance": []
    },
    "kernelspec": {
      "name": "python3",
      "display_name": "Python 3"
    },
    "language_info": {
      "name": "python"
    }
  },
  "cells": [
    {
      "cell_type": "code",
      "source": [
        "import cv2 as cv\n",
        "from math import atan2, cos, sin, sqrt, pi\n",
        "import numpy as np\n",
        "from google.colab.patches import cv2_imshow"
      ],
      "metadata": {
        "id": "jAvRvFWT_GfA"
      },
      "execution_count": null,
      "outputs": []
    },
    {
      "cell_type": "code",
      "source": [
        "img = cv.imread(\"/content/drive/MyDrive/Arrow_1.jpg\")\n",
        "gray = cv.cvtColor(img, cv.COLOR_BGR2GRAY)\n",
        "\n",
        "_, bw = cv.threshold(gray, 50, 255, cv.THRESH_BINARY | cv.THRESH_OTSU)"
      ],
      "metadata": {
        "id": "-umBocf-BWnD"
      },
      "execution_count": null,
      "outputs": []
    },
    {
      "cell_type": "code",
      "source": [
        "contours, _ = cv.findContours(bw, cv.RETR_LIST, cv.CHAIN_APPROX_NONE)"
      ],
      "metadata": {
        "id": "3pwJ3n0SBcKQ"
      },
      "execution_count": null,
      "outputs": []
    },
    {
      "cell_type": "code",
      "source": [
        "for i, c in enumerate(contours):\n",
        "\n",
        "  rect = cv.minAreaRect(c)\n",
        "\n",
        "  center = (int(rect[0][0]),int(rect[0][1])) \n",
        "  width = int(rect[1][0])\n",
        "  height = int(rect[1][1])\n",
        "  angle = int(rect[2])\n",
        "\n",
        "  if width < height:\n",
        "    angle = 90 - angle\n",
        "  else:\n",
        "    angle = -angle\n",
        "\n",
        "  print(angle)"
      ],
      "metadata": {
        "colab": {
          "base_uri": "https://localhost:8080/"
        },
        "id": "8NfRjmeuBjYs",
        "outputId": "6e62b42e-77ae-4985-a03a-30641d3bfb3d"
      },
      "execution_count": null,
      "outputs": [
        {
          "output_type": "stream",
          "name": "stdout",
          "text": [
            "9\n"
          ]
        }
      ]
    },
    {
      "cell_type": "code",
      "source": [],
      "metadata": {
        "id": "UAvtgZpADG1f"
      },
      "execution_count": null,
      "outputs": []
    }
  ]
}