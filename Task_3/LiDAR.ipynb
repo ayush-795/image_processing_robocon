{
  "nbformat": 4,
  "nbformat_minor": 0,
  "metadata": {
    "colab": {
      "provenance": []
    },
    "kernelspec": {
      "name": "python3",
      "display_name": "Python 3"
    },
    "language_info": {
      "name": "python"
    },
    "accelerator": "GPU",
    "gpuClass": "standard"
  },
  "cells": [
    {
      "cell_type": "code",
      "source": [
        "import PIL\n",
        "from PIL import Image\n",
        "import pathlib\n",
        "import math\n",
        "import matplotlib.pyplot as plt\n",
        "\n",
        "# Define the maximum distance the Lidar can measure\n",
        "max_distance = 360\n",
        "\n",
        "# Define the number of rays the Lidar will emit for each scan\n",
        "no_of_rays = 360\n",
        "\n",
        "# Load the world map image\n",
        "image = Image.open(pathlib.Path('/content/drive/MyDrive/worldmap.jpg'))\n",
        "image = image.convert('1')\n",
        "image.thumbnail((400, 400))\n",
        "image_size = min(image.size)\n",
        "\n",
        "# Create an empty map of the same size as the world map\n",
        "map_image = Image.new('1', (image_size, image_size), color=1)\n",
        "\n",
        "# Set the initial scan position to the center of the map\n",
        "centerX = image_size // 2\n",
        "centerY = image_size // 2\n",
        "\n",
        "# Define a function to update the map based on the Lidar readings\n",
        "def update_map(lidar_reading, current_x, current_y):\n",
        "    # Iterate through the Lidar readings\n",
        "    for angle, distance in lidar_reading:\n",
        "        # Convert the angle to radians\n",
        "        angle_radians = math.radians(angle)\n",
        "        # Calculate the x and y coordinates of the obstacle\n",
        "        obstacle_x = current_x + int(distance * math.cos(angle_radians))\n",
        "        obstacle_y = current_y + int(distance * math.sin(angle_radians))\n",
        "        # Update the map with the obstacle position\n",
        "        if obstacle_x >= 0 and obstacle_x < image_size and obstacle_y >= 0 and obstacle_y < image_size:\n",
        "            map_image.putpixel((obstacle_x, obstacle_y), 0)\n",
        "\n",
        "# Iterate until the entire map is mapped\n",
        "while map_image.getextrema()[0] == 1:\n",
        "    # Take a Lidar scan at the current position\n",
        "    lidar_reading = []\n",
        "    if image.getpixel((centerX, centerY)) == 0:\n",
        "        print('Invalid starting position')\n",
        "        break\n",
        "    for i in range(0, 360, int(360 / no_of_rays)):\n",
        "        r = 0\n",
        "        currentX = round(centerX + r * math.cos(i * math.pi / 180))\n",
        "        currentY = round(centerY + r * math.sin(i * math.pi / 180))\n",
        "        while ((currentX < image_size and currentX >= 0) and (currentY < image_size and currentY >=0) and (image.getpixel((currentX, currentY)) != 0)):\n",
        "            currentX = round(centerX + r * math.cos(i * math.pi / 180))\n",
        "            currentY = round(centerY + r * math.sin(i * math.pi / 180))\n",
        "            r += 1\n",
        "        if r > max_distance:\n",
        "            r = max_distance\n",
        "        lidar_reading.append((i, r))\n",
        "\n",
        "    # Update the map with the Lidar readings\n",
        "    update_map(lidar_reading, centerX, centerY)\n",
        "\n",
        "    # Determine the next scan position by finding the closest unexplored area\n",
        "    min_distance = image_size * 2\n",
        "    for x in range(image_size):\n",
        "        for y in range(image_size):\n",
        "            if map_image.getpixel((x, y)) == 1:\n",
        "                distance = math.sqrt((x - centerX) ** 2 + (y - centerY) ** 2)\n",
        "                if distance < min_distance:\n",
        "                    next_x, next_y = x, y\n",
        "                    min_distance = distance\n",
        "\n",
        "    # Move to the next scan position\n",
        "    centerX, centerY = next_x, next_y\n",
        "\n",
        "# Display the final map\n",
        "plt.imshow(map_image)"
      ],
      "metadata": {
        "colab": {
          "base_uri": "https://localhost:8080/",
          "height": 287
        },
        "id": "5qMshmmirZig",
        "outputId": "f58110fc-0d58-48d0-a929-7633ccc35d0f"
      },
      "execution_count": null,
      "outputs": [
        {
          "output_type": "execute_result",
          "data": {
            "text/plain": [
              "<matplotlib.image.AxesImage at 0x7f5bc96426a0>"
            ]
          },
          "metadata": {},
          "execution_count": 31
        },
        {
          "output_type": "display_data",
          "data": {
            "text/plain": [
              "<Figure size 432x288 with 1 Axes>"
            ],
            "image/png": "[encoded data removed]"
          },
          "metadata": {
            "needs_background": "light"
          }
        }
      ]
    }
  ]
}